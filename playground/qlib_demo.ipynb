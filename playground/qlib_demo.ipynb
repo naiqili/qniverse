{
 "cells": [
  {
   "cell_type": "code",
   "execution_count": 3,
   "metadata": {},
   "outputs": [
    {
     "name": "stderr",
     "output_type": "stream",
     "text": [
      "[3848291:MainThread](2025-02-19 16:13:42,769) INFO - qlib.Initialization - [config.py:416] - default_conf: client.\n",
      "[3848291:MainThread](2025-02-19 16:13:42,773) INFO - qlib.Initialization - [__init__.py:74] - qlib successfully initialized based on client settings.\n",
      "[3848291:MainThread](2025-02-19 16:13:42,776) INFO - qlib.Initialization - [__init__.py:76] - data_path={'__DEFAULT_FREQ': PosixPath('/data/linq/.qlib/qlib_data/cn_data')}\n"
     ]
    }
   ],
   "source": [
    "from pprint import pprint\n",
    "from pathlib import Path\n",
    "import pandas as pd\n",
    "import qlib\n",
    "import os\n",
    "from qlib.utils import init_instance_by_config\n",
    "from qlib.workflow import R\n",
    "from qlib.workflow.record_temp import SignalRecord, PortAnaRecord, SigAnaRecord\n",
    "from qlib.contrib.report import analysis_model, analysis_position\n",
    "from qlib.data import D\n",
    "\n",
    "qlib.init(provider_uri=\"/data/linq/.qlib/qlib_data/cn_data\")"
   ]
  },
  {
   "cell_type": "markdown",
   "metadata": {},
   "source": [
    "# index size across time"
   ]
  },
  {
   "cell_type": "code",
   "execution_count": 4,
   "metadata": {},
   "outputs": [
    {
     "data": {
      "text/plain": [
       "<Axes: xlabel='datetime'>"
      ]
     },
     "execution_count": 4,
     "metadata": {},
     "output_type": "execute_result"
    },
    {
     "data": {
      "image/png": "[encoded data removed]",
      "text/plain": [
       "<Figure size 640x480 with 1 Axes>"
      ]
     },
     "metadata": {},
     "output_type": "display_data"
    }
   ],
   "source": [
    "MARKET = 'csi300'\n",
    "ST_TIME = '2024-10-10'\n",
    "ED_TIME = '2024-10-19'\n",
    "\n",
    "df = D.features(D.instruments(MARKET), [\"$close\"], start_time=ST_TIME, end_time=ED_TIME)\n",
    "df.groupby(\"datetime\").size().plot()"
   ]
  },
  {
   "cell_type": "code",
   "execution_count": 5,
   "metadata": {},
   "outputs": [
    {
     "data": {
      "application/vnd.microsoft.datawrangler.viewer.v0+json": {
       "columns": [
        {
         "name": "('instrument', 'datetime')",
         "rawType": "object",
         "type": "unknown"
        },
        {
         "name": "$close",
         "rawType": "float32",
         "type": "float"
        }
       ],
       "conversionMethod": "pd.DataFrame",
       "ref": "7cdc1050-4b72-4c45-8629-3f046657140c",
       "rows": [
        [
         "('SH600000', Timestamp('2024-10-10 00:00:00'))",
         "2.029683"
        ],
        [
         "('SH600000', Timestamp('2024-10-11 00:00:00'))",
         "2.0001533"
        ],
        [
         "('SH600000', Timestamp('2024-10-14 00:00:00'))",
         "2.047401"
        ],
        [
         "('SH600000', Timestamp('2024-10-15 00:00:00'))",
         "2.0178711"
        ],
        [
         "('SH600000', Timestamp('2024-10-16 00:00:00'))",
         "2.035589"
        ],
        [
         "('SH600000', Timestamp('2024-10-17 00:00:00'))",
         "2.0119653"
        ],
        [
         "('SH600000', Timestamp('2024-10-18 00:00:00'))",
         "1.9981847"
        ],
        [
         "('SH600009', Timestamp('2024-10-10 00:00:00'))",
         "2.406704"
        ],
        [
         "('SH600009', Timestamp('2024-10-11 00:00:00'))",
         "2.3644693"
        ],
        [
         "('SH600009', Timestamp('2024-10-14 00:00:00'))",
         "2.3530726"
        ],
        [
         "('SH600009', Timestamp('2024-10-15 00:00:00'))",
         "2.3182123"
        ],
        [
         "('SH600009', Timestamp('2024-10-16 00:00:00'))",
         "2.2967598"
        ],
        [
         "('SH600009', Timestamp('2024-10-17 00:00:00'))",
         "2.274637"
        ],
        [
         "('SH600009', Timestamp('2024-10-18 00:00:00'))",
         "2.3329608"
        ],
        [
         "('SH600010', Timestamp('2024-10-10 00:00:00'))",
         "1.065657"
        ],
        [
         "('SH600010', Timestamp('2024-10-11 00:00:00'))",
         "1.0343142"
        ],
        [
         "('SH600010', Timestamp('2024-10-14 00:00:00'))",
         "1.0468513"
        ],
        [
         "('SH600010', Timestamp('2024-10-15 00:00:00'))",
         "1.0217769"
        ],
        [
         "('SH600010', Timestamp('2024-10-16 00:00:00'))",
         "1.0217769"
        ],
        [
         "('SH600010', Timestamp('2024-10-17 00:00:00'))",
         "0.9904341"
        ],
        [
         "('SH600010', Timestamp('2024-10-18 00:00:00'))",
         "1.0217769"
        ],
        [
         "('SH600011', Timestamp('2024-10-10 00:00:00'))",
         "1.4702703"
        ],
        [
         "('SH600011', Timestamp('2024-10-11 00:00:00'))",
         "1.4197721"
        ],
        [
         "('SH600011', Timestamp('2024-10-14 00:00:00'))",
         "1.410061"
        ],
        [
         "('SH600011', Timestamp('2024-10-15 00:00:00'))",
         "1.3751009"
        ],
        [
         "('SH600011', Timestamp('2024-10-16 00:00:00'))",
         "1.3731586"
        ],
        [
         "('SH600011', Timestamp('2024-10-17 00:00:00'))",
         "1.3440251"
        ],
        [
         "('SH600011', Timestamp('2024-10-18 00:00:00'))",
         "1.3692741"
        ],
        [
         "('SH600015', Timestamp('2024-10-10 00:00:00'))",
         "1.9925786"
        ],
        [
         "('SH600015', Timestamp('2024-10-11 00:00:00'))",
         "1.9524596"
        ],
        [
         "('SH600015', Timestamp('2024-10-14 00:00:00'))",
         "1.9952532"
        ],
        [
         "('SH600015', Timestamp('2024-10-15 00:00:00'))",
         "1.9551342"
        ],
        [
         "('SH600015', Timestamp('2024-10-16 00:00:00'))",
         "1.9979278"
        ],
        [
         "('SH600015', Timestamp('2024-10-17 00:00:00'))",
         "1.9685072"
        ],
        [
         "('SH600015', Timestamp('2024-10-18 00:00:00'))",
         "1.9711818"
        ],
        [
         "('SH600016', Timestamp('2024-10-10 00:00:00'))",
         "1.5460291"
        ],
        [
         "('SH600016', Timestamp('2024-10-11 00:00:00'))",
         "1.5148748"
        ],
        [
         "('SH600016', Timestamp('2024-10-14 00:00:00'))",
         "1.5460291"
        ],
        [
         "('SH600016', Timestamp('2024-10-15 00:00:00'))",
         "1.5187691"
        ],
        [
         "('SH600016', Timestamp('2024-10-16 00:00:00'))",
         "1.5382406"
        ],
        [
         "('SH600016', Timestamp('2024-10-17 00:00:00'))",
         "1.5148748"
        ],
        [
         "('SH600016', Timestamp('2024-10-18 00:00:00'))",
         "1.5226634"
        ],
        [
         "('SH600018', Timestamp('2024-10-10 00:00:00'))",
         "1.7155479"
        ],
        [
         "('SH600018', Timestamp('2024-10-11 00:00:00'))",
         "1.6859695"
        ],
        [
         "('SH600018', Timestamp('2024-10-14 00:00:00'))",
         "1.7047921"
        ],
        [
         "('SH600018', Timestamp('2024-10-15 00:00:00'))",
         "1.6617689"
        ],
        [
         "('SH600018', Timestamp('2024-10-16 00:00:00'))",
         "1.6752137"
        ],
        [
         "('SH600018', Timestamp('2024-10-17 00:00:00'))",
         "1.6348795"
        ],
        [
         "('SH600018', Timestamp('2024-10-18 00:00:00'))",
         "1.6698358"
        ],
        [
         "('SH600019', Timestamp('2024-10-10 00:00:00'))",
         "1.3963591"
        ]
       ],
       "shape": {
        "columns": 1,
        "rows": 2163
       }
      },
      "text/html": [
       "<div>\n",
       "<style scoped>\n",
       "    .dataframe tbody tr th:only-of-type {\n",
       "        vertical-align: middle;\n",
       "    }\n",
       "\n",
       "    .dataframe tbody tr th {\n",
       "        vertical-align: top;\n",
       "    }\n",
       "\n",
       "    .dataframe thead th {\n",
       "        text-align: right;\n",
       "    }\n",
       "</style>\n",
       "<table border=\"1\" class=\"dataframe\">\n",
       "  <thead>\n",
       "    <tr style=\"text-align: right;\">\n",
       "      <th></th>\n",
       "      <th></th>\n",
       "      <th>$close</th>\n",
       "    </tr>\n",
       "    <tr>\n",
       "      <th>instrument</th>\n",
       "      <th>datetime</th>\n",
       "      <th></th>\n",
       "    </tr>\n",
       "  </thead>\n",
       "  <tbody>\n",
       "    <tr>\n",
       "      <th rowspan=\"5\" valign=\"top\">SH600000</th>\n",
       "      <th>2024-10-10</th>\n",
       "      <td>2.029683</td>\n",
       "    </tr>\n",
       "    <tr>\n",
       "      <th>2024-10-11</th>\n",
       "      <td>2.000153</td>\n",
       "    </tr>\n",
       "    <tr>\n",
       "      <th>2024-10-14</th>\n",
       "      <td>2.047401</td>\n",
       "    </tr>\n",
       "    <tr>\n",
       "      <th>2024-10-15</th>\n",
       "      <td>2.017871</td>\n",
       "    </tr>\n",
       "    <tr>\n",
       "      <th>2024-10-16</th>\n",
       "      <td>2.035589</td>\n",
       "    </tr>\n",
       "    <tr>\n",
       "      <th>...</th>\n",
       "      <th>...</th>\n",
       "      <td>...</td>\n",
       "    </tr>\n",
       "    <tr>\n",
       "      <th rowspan=\"5\" valign=\"top\">SZ301269</th>\n",
       "      <th>2024-10-14</th>\n",
       "      <td>1.221752</td>\n",
       "    </tr>\n",
       "    <tr>\n",
       "      <th>2024-10-15</th>\n",
       "      <td>1.206100</td>\n",
       "    </tr>\n",
       "    <tr>\n",
       "      <th>2024-10-16</th>\n",
       "      <td>1.190583</td>\n",
       "    </tr>\n",
       "    <tr>\n",
       "      <th>2024-10-17</th>\n",
       "      <td>1.194596</td>\n",
       "    </tr>\n",
       "    <tr>\n",
       "      <th>2024-10-18</th>\n",
       "      <td>1.307099</td>\n",
       "    </tr>\n",
       "  </tbody>\n",
       "</table>\n",
       "<p>2163 rows × 1 columns</p>\n",
       "</div>"
      ],
      "text/plain": [
       "                         $close\n",
       "instrument datetime            \n",
       "SH600000   2024-10-10  2.029683\n",
       "           2024-10-11  2.000153\n",
       "           2024-10-14  2.047401\n",
       "           2024-10-15  2.017871\n",
       "           2024-10-16  2.035589\n",
       "...                         ...\n",
       "SZ301269   2024-10-14  1.221752\n",
       "           2024-10-15  1.206100\n",
       "           2024-10-16  1.190583\n",
       "           2024-10-17  1.194596\n",
       "           2024-10-18  1.307099\n",
       "\n",
       "[2163 rows x 1 columns]"
      ]
     },
     "execution_count": 5,
     "metadata": {},
     "output_type": "execute_result"
    }
   ],
   "source": [
    "df"
   ]
  },
  {
   "cell_type": "code",
   "execution_count": 6,
   "metadata": {},
   "outputs": [],
   "source": [
    "# slist = df.index.get_level_values('instrument').unique()\n",
    "# path = '/data/linaiqi/.qlib/qlib_data/cn_data/instruments/scsi300.txt'\n",
    "# with open(path, 'w') as f:\n",
    "#     for idx in slist:\n",
    "#         f.write(f'{idx}\\t1899-01-01\\t2099-01-1\\n')"
   ]
  },
  {
   "cell_type": "markdown",
   "metadata": {},
   "source": [
    "# stock filter"
   ]
  },
  {
   "cell_type": "code",
   "execution_count": 7,
   "metadata": {},
   "outputs": [
    {
     "ename": "ValueError",
     "evalue": "instrument not exists: /data/linq/.qlib/qlib_data/cn_data/instruments/csi100.txt",
     "output_type": "error",
     "traceback": [
      "\u001b[0;31m---------------------------------------------------------------------------\u001b[0m",
      "\u001b[0;31mValueError\u001b[0m                                Traceback (most recent call last)",
      "Cell \u001b[0;32mIn[7], line 10\u001b[0m\n\u001b[1;32m      8\u001b[0m nameDFilter \u001b[38;5;241m=\u001b[39m NameDFilter(name_rule_re\u001b[38;5;241m=\u001b[39m\u001b[38;5;124m'\u001b[39m\u001b[38;5;124m(SH60[0-9]\u001b[39m\u001b[38;5;132;01m{4}\u001b[39;00m\u001b[38;5;124m)|(SZ00[0-9]\u001b[39m\u001b[38;5;132;01m{4}\u001b[39;00m\u001b[38;5;124m)\u001b[39m\u001b[38;5;124m'\u001b[39m)\n\u001b[1;32m      9\u001b[0m instruments \u001b[38;5;241m=\u001b[39m D\u001b[38;5;241m.\u001b[39minstruments(market\u001b[38;5;241m=\u001b[39mMARKET, filter_pipe\u001b[38;5;241m=\u001b[39m[nameDFilter])\n\u001b[0;32m---> 10\u001b[0m act_list \u001b[38;5;241m=\u001b[39m \u001b[43mD\u001b[49m\u001b[38;5;241;43m.\u001b[39;49m\u001b[43mlist_instruments\u001b[49m\u001b[43m(\u001b[49m\u001b[43minstruments\u001b[49m\u001b[38;5;241;43m=\u001b[39;49m\u001b[43minstruments\u001b[49m\u001b[43m,\u001b[49m\u001b[43m \u001b[49m\u001b[43mstart_time\u001b[49m\u001b[38;5;241;43m=\u001b[39;49m\u001b[43mST_TIME\u001b[49m\u001b[43m,\u001b[49m\u001b[43m \u001b[49m\u001b[43m\\\u001b[49m\n\u001b[1;32m     11\u001b[0m \u001b[43m                                \u001b[49m\u001b[43mend_time\u001b[49m\u001b[38;5;241;43m=\u001b[39;49m\u001b[43mED_TIME\u001b[49m\u001b[43m,\u001b[49m\u001b[43m \u001b[49m\u001b[43mas_list\u001b[49m\u001b[38;5;241;43m=\u001b[39;49m\u001b[38;5;28;43;01mTrue\u001b[39;49;00m\u001b[43m)\u001b[49m\n\u001b[1;32m     13\u001b[0m act_list[:\u001b[38;5;241m10\u001b[39m]\n",
      "File \u001b[0;32m~/anaconda3/envs/qlib39/lib/python3.9/site-packages/qlib/data/data.py:1160\u001b[0m, in \u001b[0;36mBaseProvider.list_instruments\u001b[0;34m(self, instruments, start_time, end_time, freq, as_list)\u001b[0m\n\u001b[1;32m   1159\u001b[0m \u001b[38;5;28;01mdef\u001b[39;00m \u001b[38;5;21mlist_instruments\u001b[39m(\u001b[38;5;28mself\u001b[39m, instruments, start_time\u001b[38;5;241m=\u001b[39m\u001b[38;5;28;01mNone\u001b[39;00m, end_time\u001b[38;5;241m=\u001b[39m\u001b[38;5;28;01mNone\u001b[39;00m, freq\u001b[38;5;241m=\u001b[39m\u001b[38;5;124m\"\u001b[39m\u001b[38;5;124mday\u001b[39m\u001b[38;5;124m\"\u001b[39m, as_list\u001b[38;5;241m=\u001b[39m\u001b[38;5;28;01mFalse\u001b[39;00m):\n\u001b[0;32m-> 1160\u001b[0m     \u001b[38;5;28;01mreturn\u001b[39;00m \u001b[43mInst\u001b[49m\u001b[38;5;241;43m.\u001b[39;49m\u001b[43mlist_instruments\u001b[49m\u001b[43m(\u001b[49m\u001b[43minstruments\u001b[49m\u001b[43m,\u001b[49m\u001b[43m \u001b[49m\u001b[43mstart_time\u001b[49m\u001b[43m,\u001b[49m\u001b[43m \u001b[49m\u001b[43mend_time\u001b[49m\u001b[43m,\u001b[49m\u001b[43m \u001b[49m\u001b[43mfreq\u001b[49m\u001b[43m,\u001b[49m\u001b[43m \u001b[49m\u001b[43mas_list\u001b[49m\u001b[43m)\u001b[49m\n",
      "File \u001b[0;32m~/anaconda3/envs/qlib39/lib/python3.9/site-packages/qlib/data/data.py:696\u001b[0m, in \u001b[0;36mLocalInstrumentProvider.list_instruments\u001b[0;34m(self, instruments, start_time, end_time, freq, as_list)\u001b[0m\n\u001b[1;32m    694\u001b[0m     _instruments \u001b[38;5;241m=\u001b[39m H[\u001b[38;5;124m\"\u001b[39m\u001b[38;5;124mi\u001b[39m\u001b[38;5;124m\"\u001b[39m][market]\n\u001b[1;32m    695\u001b[0m \u001b[38;5;28;01melse\u001b[39;00m:\n\u001b[0;32m--> 696\u001b[0m     _instruments \u001b[38;5;241m=\u001b[39m \u001b[38;5;28;43mself\u001b[39;49m\u001b[38;5;241;43m.\u001b[39;49m\u001b[43m_load_instruments\u001b[49m\u001b[43m(\u001b[49m\u001b[43mmarket\u001b[49m\u001b[43m,\u001b[49m\u001b[43m \u001b[49m\u001b[43mfreq\u001b[49m\u001b[38;5;241;43m=\u001b[39;49m\u001b[43mfreq\u001b[49m\u001b[43m)\u001b[49m\n\u001b[1;32m    697\u001b[0m     H[\u001b[38;5;124m\"\u001b[39m\u001b[38;5;124mi\u001b[39m\u001b[38;5;124m\"\u001b[39m][market] \u001b[38;5;241m=\u001b[39m _instruments\n\u001b[1;32m    698\u001b[0m \u001b[38;5;66;03m# strip\u001b[39;00m\n\u001b[1;32m    699\u001b[0m \u001b[38;5;66;03m# use calendar boundary\u001b[39;00m\n",
      "File \u001b[0;32m~/anaconda3/envs/qlib39/lib/python3.9/site-packages/qlib/data/data.py:689\u001b[0m, in \u001b[0;36mLocalInstrumentProvider._load_instruments\u001b[0;34m(self, market, freq)\u001b[0m\n\u001b[1;32m    688\u001b[0m \u001b[38;5;28;01mdef\u001b[39;00m \u001b[38;5;21m_load_instruments\u001b[39m(\u001b[38;5;28mself\u001b[39m, market, freq):\n\u001b[0;32m--> 689\u001b[0m     \u001b[38;5;28;01mreturn\u001b[39;00m \u001b[38;5;28;43mself\u001b[39;49m\u001b[38;5;241;43m.\u001b[39;49m\u001b[43mbackend_obj\u001b[49m\u001b[43m(\u001b[49m\u001b[43mmarket\u001b[49m\u001b[38;5;241;43m=\u001b[39;49m\u001b[43mmarket\u001b[49m\u001b[43m,\u001b[49m\u001b[43m \u001b[49m\u001b[43mfreq\u001b[49m\u001b[38;5;241;43m=\u001b[39;49m\u001b[43mfreq\u001b[49m\u001b[43m)\u001b[49m\u001b[38;5;241;43m.\u001b[39;49m\u001b[43mdata\u001b[49m\n",
      "File \u001b[0;32m~/anaconda3/envs/qlib39/lib/python3.9/site-packages/qlib/data/storage/file_storage.py:243\u001b[0m, in \u001b[0;36mFileInstrumentStorage.data\u001b[0;34m(self)\u001b[0m\n\u001b[1;32m    241\u001b[0m \u001b[38;5;129m@property\u001b[39m\n\u001b[1;32m    242\u001b[0m \u001b[38;5;28;01mdef\u001b[39;00m \u001b[38;5;21mdata\u001b[39m(\u001b[38;5;28mself\u001b[39m) \u001b[38;5;241m-\u001b[39m\u001b[38;5;241m>\u001b[39m Dict[InstKT, InstVT]:\n\u001b[0;32m--> 243\u001b[0m     \u001b[38;5;28;43mself\u001b[39;49m\u001b[38;5;241;43m.\u001b[39;49m\u001b[43mcheck\u001b[49m\u001b[43m(\u001b[49m\u001b[43m)\u001b[49m\n\u001b[1;32m    244\u001b[0m     \u001b[38;5;28;01mreturn\u001b[39;00m \u001b[38;5;28mself\u001b[39m\u001b[38;5;241m.\u001b[39m_read_instrument()\n",
      "File \u001b[0;32m~/anaconda3/envs/qlib39/lib/python3.9/site-packages/qlib/data/storage/file_storage.py:73\u001b[0m, in \u001b[0;36mFileStorageMixin.check\u001b[0;34m(self)\u001b[0m\n\u001b[1;32m     66\u001b[0m \u001b[38;5;250m\u001b[39m\u001b[38;5;124;03m\"\"\"check self.uri\u001b[39;00m\n\u001b[1;32m     67\u001b[0m \n\u001b[1;32m     68\u001b[0m \u001b[38;5;124;03mRaises\u001b[39;00m\n\u001b[1;32m     69\u001b[0m \u001b[38;5;124;03m-------\u001b[39;00m\n\u001b[1;32m     70\u001b[0m \u001b[38;5;124;03mValueError\u001b[39;00m\n\u001b[1;32m     71\u001b[0m \u001b[38;5;124;03m\"\"\"\u001b[39;00m\n\u001b[1;32m     72\u001b[0m \u001b[38;5;28;01mif\u001b[39;00m \u001b[38;5;129;01mnot\u001b[39;00m \u001b[38;5;28mself\u001b[39m\u001b[38;5;241m.\u001b[39muri\u001b[38;5;241m.\u001b[39mexists():\n\u001b[0;32m---> 73\u001b[0m     \u001b[38;5;28;01mraise\u001b[39;00m \u001b[38;5;167;01mValueError\u001b[39;00m(\u001b[38;5;124mf\u001b[39m\u001b[38;5;124m\"\u001b[39m\u001b[38;5;132;01m{\u001b[39;00m\u001b[38;5;28mself\u001b[39m\u001b[38;5;241m.\u001b[39mstorage_name\u001b[38;5;132;01m}\u001b[39;00m\u001b[38;5;124m not exists: \u001b[39m\u001b[38;5;132;01m{\u001b[39;00m\u001b[38;5;28mself\u001b[39m\u001b[38;5;241m.\u001b[39muri\u001b[38;5;132;01m}\u001b[39;00m\u001b[38;5;124m\"\u001b[39m)\n",
      "\u001b[0;31mValueError\u001b[0m: instrument not exists: /data/linq/.qlib/qlib_data/cn_data/instruments/csi100.txt"
     ]
    }
   ],
   "source": [
    "from qlib.data.filter import NameDFilter\n",
    "\n",
    "MARKET = 'csi100'\n",
    "ST_TIME = '2024-09-01'\n",
    "ED_TIME = '2024-09-10'\n",
    "\n",
    "\n",
    "nameDFilter = NameDFilter(name_rule_re='(SH60[0-9]{4})|(SZ00[0-9]{4})')\n",
    "instruments = D.instruments(market=MARKET, filter_pipe=[nameDFilter])\n",
    "act_list = D.list_instruments(instruments=instruments, start_time=ST_TIME, \\\n",
    "                                end_time=ED_TIME, as_list=True)\n",
    "\n",
    "act_list[:10]"
   ]
  },
  {
   "cell_type": "markdown",
   "metadata": {},
   "source": [
    "# index history"
   ]
  },
  {
   "cell_type": "code",
   "execution_count": 11,
   "metadata": {},
   "outputs": [
    {
     "data": {
      "application/vnd.microsoft.datawrangler.viewer.v0+json": {
       "columns": [
        {
         "name": "('instrument', 'datetime')",
         "rawType": "object",
         "type": "unknown"
        },
        {
         "name": "norm_close",
         "rawType": "float32",
         "type": "float"
        },
        {
         "name": "factor",
         "rawType": "float32",
         "type": "float"
        },
        {
         "name": "close",
         "rawType": "float32",
         "type": "float"
        },
        {
         "name": "r0",
         "rawType": "float32",
         "type": "float"
        },
        {
         "name": "r1",
         "rawType": "float32",
         "type": "float"
        }
       ],
       "conversionMethod": "pd.DataFrame",
       "ref": "b382705e-32a7-4b44-b913-eae23305e587",
       "rows": [
        [
         "('SH000852', Timestamp('2024-12-25 00:00:00'))",
         "6.1563487",
         "0.0010101174",
         "6094.6865",
         "1.0790586",
         "0.18039942"
        ],
        [
         "('SH000852', Timestamp('2024-12-26 00:00:00'))",
         "6.2227793",
         "0.0010101174",
         "6160.4517",
         "0.18039942",
         "-0.4154086"
        ],
        [
         "('SH000852', Timestamp('2024-12-27 00:00:00'))",
         "6.234005",
         "0.0010101174",
         "6171.565",
         "-0.4154086",
         "-3.0623674"
        ],
        [
         "('SH000852', Timestamp('2024-12-30 00:00:00'))",
         "6.2081084",
         "0.0010101174",
         "6145.9277",
         "-3.0623674",
         "-2.6961386"
        ],
        [
         "('SH000852', Timestamp('2024-12-31 00:00:00'))",
         "6.0179935",
         "0.0010101174",
         "5957.7173",
         "-2.6961386",
         "-2.9649317"
        ]
       ],
       "shape": {
        "columns": 5,
        "rows": 5
       }
      },
      "text/html": [
       "<div>\n",
       "<style scoped>\n",
       "    .dataframe tbody tr th:only-of-type {\n",
       "        vertical-align: middle;\n",
       "    }\n",
       "\n",
       "    .dataframe tbody tr th {\n",
       "        vertical-align: top;\n",
       "    }\n",
       "\n",
       "    .dataframe thead th {\n",
       "        text-align: right;\n",
       "    }\n",
       "</style>\n",
       "<table border=\"1\" class=\"dataframe\">\n",
       "  <thead>\n",
       "    <tr style=\"text-align: right;\">\n",
       "      <th></th>\n",
       "      <th></th>\n",
       "      <th>norm_close</th>\n",
       "      <th>factor</th>\n",
       "      <th>close</th>\n",
       "      <th>r0</th>\n",
       "      <th>r1</th>\n",
       "    </tr>\n",
       "    <tr>\n",
       "      <th>instrument</th>\n",
       "      <th>datetime</th>\n",
       "      <th></th>\n",
       "      <th></th>\n",
       "      <th></th>\n",
       "      <th></th>\n",
       "      <th></th>\n",
       "    </tr>\n",
       "  </thead>\n",
       "  <tbody>\n",
       "    <tr>\n",
       "      <th rowspan=\"5\" valign=\"top\">SH000852</th>\n",
       "      <th>2024-12-25</th>\n",
       "      <td>6.156349</td>\n",
       "      <td>0.00101</td>\n",
       "      <td>6094.686523</td>\n",
       "      <td>1.079059</td>\n",
       "      <td>0.180399</td>\n",
       "    </tr>\n",
       "    <tr>\n",
       "      <th>2024-12-26</th>\n",
       "      <td>6.222779</td>\n",
       "      <td>0.00101</td>\n",
       "      <td>6160.451660</td>\n",
       "      <td>0.180399</td>\n",
       "      <td>-0.415409</td>\n",
       "    </tr>\n",
       "    <tr>\n",
       "      <th>2024-12-27</th>\n",
       "      <td>6.234005</td>\n",
       "      <td>0.00101</td>\n",
       "      <td>6171.564941</td>\n",
       "      <td>-0.415409</td>\n",
       "      <td>-3.062367</td>\n",
       "    </tr>\n",
       "    <tr>\n",
       "      <th>2024-12-30</th>\n",
       "      <td>6.208108</td>\n",
       "      <td>0.00101</td>\n",
       "      <td>6145.927734</td>\n",
       "      <td>-3.062367</td>\n",
       "      <td>-2.696139</td>\n",
       "    </tr>\n",
       "    <tr>\n",
       "      <th>2024-12-31</th>\n",
       "      <td>6.017993</td>\n",
       "      <td>0.00101</td>\n",
       "      <td>5957.717285</td>\n",
       "      <td>-2.696139</td>\n",
       "      <td>-2.964932</td>\n",
       "    </tr>\n",
       "  </tbody>\n",
       "</table>\n",
       "</div>"
      ],
      "text/plain": [
       "                       norm_close   factor        close        r0        r1\n",
       "instrument datetime                                                        \n",
       "SH000852   2024-12-25    6.156349  0.00101  6094.686523  1.079059  0.180399\n",
       "           2024-12-26    6.222779  0.00101  6160.451660  0.180399 -0.415409\n",
       "           2024-12-27    6.234005  0.00101  6171.564941 -0.415409 -3.062367\n",
       "           2024-12-30    6.208108  0.00101  6145.927734 -3.062367 -2.696139\n",
       "           2024-12-31    6.017993  0.00101  5957.717285 -2.696139 -2.964932"
      ]
     },
     "execution_count": 11,
     "metadata": {},
     "output_type": "execute_result"
    }
   ],
   "source": [
    "ST_TIME = '2020-01-01'\n",
    "ED_TIME = '2024-12-31'\n",
    "\n",
    "from qlib.data import D\n",
    "# instruments = ['SH000300'] # 沪深300（上证指数）\n",
    "instruments = ['SH000852'] \n",
    "fields = ['$close', '$factor', '$close/$factor', \\\n",
    "          '100*(Ref($close, -1) / $close - 1)', '100*(Ref($close, -2) / Ref($close, -1) - 1)']\n",
    "df = D.features(instruments, fields, start_time=ST_TIME, end_time=ED_TIME, freq='day')\n",
    "df.columns = ['norm_close', 'factor', 'close', 'r0', 'r1']\n",
    "df.tail()"
   ]
  },
  {
   "cell_type": "code",
   "execution_count": 12,
   "metadata": {},
   "outputs": [],
   "source": [
    "r = df['close'].values"
   ]
  },
  {
   "cell_type": "code",
   "execution_count": 13,
   "metadata": {},
   "outputs": [
    {
     "data": {
      "text/plain": [
       "array([5676.558 , 5706.044 , 5764.7334, ..., 6171.565 , 6145.9277,\n",
       "       5957.7173], dtype=float32)"
      ]
     },
     "execution_count": 13,
     "metadata": {},
     "output_type": "execute_result"
    }
   ],
   "source": [
    "r"
   ]
  },
  {
   "cell_type": "code",
   "execution_count": 23,
   "metadata": {},
   "outputs": [],
   "source": [
    "dl=[str(k[1].date()) for k in df.index.values]"
   ]
  },
  {
   "cell_type": "code",
   "execution_count": 28,
   "metadata": {},
   "outputs": [
    {
     "data": {
      "image/png": "[encoded data removed]",
      "text/plain": [
       "<Figure size 1400x600 with 2 Axes>"
      ]
     },
     "metadata": {},
     "output_type": "display_data"
    }
   ],
   "source": [
    "import numpy as np\n",
    "import matplotlib.pyplot as plt\n",
    "\n",
    "close_prices = r\n",
    "\n",
    "# Perform Fourier Transform\n",
    "fft_values = np.fft.fft(close_prices)\n",
    "fft_freq = np.fft.fftfreq(len(close_prices), d=1)  # d=1 means daily frequency\n",
    "fft_values[0]=0\n",
    "# Plot the time series and frequency domain\n",
    "plt.figure(figsize=(14, 6))\n",
    "\n",
    "# Time Series Plot\n",
    "plt.subplot(1, 2, 1)\n",
    "plt.plot(close_prices, label='Close Price')\n",
    "plt.title('Time Series: Close Price of CSI1000 Index (2010-2024)')\n",
    "plt.xlabel('Date')\n",
    "plt.ylabel('Close Price')\n",
    "# plt.xticks(rotation=45)\n",
    "plt.grid(True)\n",
    "\n",
    "# Frequency Domain Plot\n",
    "plt.subplot(1, 2, 2)\n",
    "plt.plot(fft_freq[:len(fft_freq)//2], np.abs(fft_values)[:len(fft_values)//2])  # Plot positive frequencies\n",
    "plt.title('Frequency Domain: FFT of Close Price')\n",
    "plt.xlabel('Frequency (Hz)')\n",
    "plt.ylabel('Amplitude')\n",
    "plt.grid(True)\n",
    "\n",
    "plt.tight_layout()"
   ]
  },
  {
   "cell_type": "code",
   "execution_count": 9,
   "metadata": {},
   "outputs": [
    {
     "ename": "KeyError",
     "evalue": "'return'",
     "output_type": "error",
     "traceback": [
      "\u001b[0;31m---------------------------------------------------------------------------\u001b[0m",
      "\u001b[0;31mKeyError\u001b[0m                                  Traceback (most recent call last)",
      "File \u001b[0;32m~/anaconda3/envs/qlib39/lib/python3.9/site-packages/pandas/core/indexes/base.py:3791\u001b[0m, in \u001b[0;36mIndex.get_loc\u001b[0;34m(self, key)\u001b[0m\n\u001b[1;32m   3790\u001b[0m \u001b[38;5;28;01mtry\u001b[39;00m:\n\u001b[0;32m-> 3791\u001b[0m     \u001b[38;5;28;01mreturn\u001b[39;00m \u001b[38;5;28;43mself\u001b[39;49m\u001b[38;5;241;43m.\u001b[39;49m\u001b[43m_engine\u001b[49m\u001b[38;5;241;43m.\u001b[39;49m\u001b[43mget_loc\u001b[49m\u001b[43m(\u001b[49m\u001b[43mcasted_key\u001b[49m\u001b[43m)\u001b[49m\n\u001b[1;32m   3792\u001b[0m \u001b[38;5;28;01mexcept\u001b[39;00m \u001b[38;5;167;01mKeyError\u001b[39;00m \u001b[38;5;28;01mas\u001b[39;00m err:\n",
      "File \u001b[0;32mindex.pyx:152\u001b[0m, in \u001b[0;36mpandas._libs.index.IndexEngine.get_loc\u001b[0;34m()\u001b[0m\n",
      "File \u001b[0;32mindex.pyx:181\u001b[0m, in \u001b[0;36mpandas._libs.index.IndexEngine.get_loc\u001b[0;34m()\u001b[0m\n",
      "File \u001b[0;32mpandas/_libs/hashtable_class_helper.pxi:7080\u001b[0m, in \u001b[0;36mpandas._libs.hashtable.PyObjectHashTable.get_item\u001b[0;34m()\u001b[0m\n",
      "File \u001b[0;32mpandas/_libs/hashtable_class_helper.pxi:7088\u001b[0m, in \u001b[0;36mpandas._libs.hashtable.PyObjectHashTable.get_item\u001b[0;34m()\u001b[0m\n",
      "\u001b[0;31mKeyError\u001b[0m: 'return'",
      "\nThe above exception was the direct cause of the following exception:\n",
      "\u001b[0;31mKeyError\u001b[0m                                  Traceback (most recent call last)",
      "Cell \u001b[0;32mIn[9], line 14\u001b[0m\n\u001b[1;32m      8\u001b[0m fig \u001b[38;5;241m=\u001b[39m make_subplots(rows\u001b[38;5;241m=\u001b[39m\u001b[38;5;241m2\u001b[39m, cols\u001b[38;5;241m=\u001b[39m\u001b[38;5;241m1\u001b[39m, subplot_titles\u001b[38;5;241m=\u001b[39m(\u001b[38;5;124m\"\u001b[39m\u001b[38;5;124mClose\u001b[39m\u001b[38;5;124m\"\u001b[39m, \u001b[38;5;124m\"\u001b[39m\u001b[38;5;124mReturn\u001b[39m\u001b[38;5;124m\"\u001b[39m))\n\u001b[1;32m      9\u001b[0m fig\u001b[38;5;241m.\u001b[39madd_trace(\n\u001b[1;32m     10\u001b[0m     go\u001b[38;5;241m.\u001b[39mScatter(x\u001b[38;5;241m=\u001b[39mdf\u001b[38;5;241m.\u001b[39mindex\u001b[38;5;241m.\u001b[39mget_level_values(\u001b[38;5;124m'\u001b[39m\u001b[38;5;124mdatetime\u001b[39m\u001b[38;5;124m'\u001b[39m), y\u001b[38;5;241m=\u001b[39mdf[\u001b[38;5;124m'\u001b[39m\u001b[38;5;124mclose\u001b[39m\u001b[38;5;124m'\u001b[39m], mode\u001b[38;5;241m=\u001b[39m\u001b[38;5;124m'\u001b[39m\u001b[38;5;124mlines\u001b[39m\u001b[38;5;124m'\u001b[39m, name\u001b[38;5;241m=\u001b[39m\u001b[38;5;124m'\u001b[39m\u001b[38;5;124mclose\u001b[39m\u001b[38;5;124m'\u001b[39m),\n\u001b[1;32m     11\u001b[0m     row\u001b[38;5;241m=\u001b[39m\u001b[38;5;241m1\u001b[39m, col\u001b[38;5;241m=\u001b[39m\u001b[38;5;241m1\u001b[39m\n\u001b[1;32m     12\u001b[0m )\n\u001b[1;32m     13\u001b[0m fig\u001b[38;5;241m.\u001b[39madd_trace(\n\u001b[0;32m---> 14\u001b[0m     go\u001b[38;5;241m.\u001b[39mBar(x\u001b[38;5;241m=\u001b[39mdf\u001b[38;5;241m.\u001b[39mindex\u001b[38;5;241m.\u001b[39mget_level_values(\u001b[38;5;124m'\u001b[39m\u001b[38;5;124mdatetime\u001b[39m\u001b[38;5;124m'\u001b[39m), y\u001b[38;5;241m=\u001b[39m\u001b[43mdf\u001b[49m\u001b[43m[\u001b[49m\u001b[38;5;124;43m'\u001b[39;49m\u001b[38;5;124;43mreturn\u001b[39;49m\u001b[38;5;124;43m'\u001b[39;49m\u001b[43m]\u001b[49m, name\u001b[38;5;241m=\u001b[39m\u001b[38;5;124m'\u001b[39m\u001b[38;5;124mreturn\u001b[39m\u001b[38;5;124m'\u001b[39m),\n\u001b[1;32m     15\u001b[0m     row\u001b[38;5;241m=\u001b[39m\u001b[38;5;241m2\u001b[39m, col\u001b[38;5;241m=\u001b[39m\u001b[38;5;241m1\u001b[39m\n\u001b[1;32m     16\u001b[0m )\n\u001b[1;32m     18\u001b[0m fig\u001b[38;5;241m.\u001b[39mupdate_layout()\n\u001b[1;32m     19\u001b[0m fig\u001b[38;5;241m.\u001b[39mshow()\n",
      "File \u001b[0;32m~/anaconda3/envs/qlib39/lib/python3.9/site-packages/pandas/core/frame.py:3893\u001b[0m, in \u001b[0;36mDataFrame.__getitem__\u001b[0;34m(self, key)\u001b[0m\n\u001b[1;32m   3891\u001b[0m \u001b[38;5;28;01mif\u001b[39;00m \u001b[38;5;28mself\u001b[39m\u001b[38;5;241m.\u001b[39mcolumns\u001b[38;5;241m.\u001b[39mnlevels \u001b[38;5;241m>\u001b[39m \u001b[38;5;241m1\u001b[39m:\n\u001b[1;32m   3892\u001b[0m     \u001b[38;5;28;01mreturn\u001b[39;00m \u001b[38;5;28mself\u001b[39m\u001b[38;5;241m.\u001b[39m_getitem_multilevel(key)\n\u001b[0;32m-> 3893\u001b[0m indexer \u001b[38;5;241m=\u001b[39m \u001b[38;5;28;43mself\u001b[39;49m\u001b[38;5;241;43m.\u001b[39;49m\u001b[43mcolumns\u001b[49m\u001b[38;5;241;43m.\u001b[39;49m\u001b[43mget_loc\u001b[49m\u001b[43m(\u001b[49m\u001b[43mkey\u001b[49m\u001b[43m)\u001b[49m\n\u001b[1;32m   3894\u001b[0m \u001b[38;5;28;01mif\u001b[39;00m is_integer(indexer):\n\u001b[1;32m   3895\u001b[0m     indexer \u001b[38;5;241m=\u001b[39m [indexer]\n",
      "File \u001b[0;32m~/anaconda3/envs/qlib39/lib/python3.9/site-packages/pandas/core/indexes/base.py:3798\u001b[0m, in \u001b[0;36mIndex.get_loc\u001b[0;34m(self, key)\u001b[0m\n\u001b[1;32m   3793\u001b[0m     \u001b[38;5;28;01mif\u001b[39;00m \u001b[38;5;28misinstance\u001b[39m(casted_key, \u001b[38;5;28mslice\u001b[39m) \u001b[38;5;129;01mor\u001b[39;00m (\n\u001b[1;32m   3794\u001b[0m         \u001b[38;5;28misinstance\u001b[39m(casted_key, abc\u001b[38;5;241m.\u001b[39mIterable)\n\u001b[1;32m   3795\u001b[0m         \u001b[38;5;129;01mand\u001b[39;00m \u001b[38;5;28many\u001b[39m(\u001b[38;5;28misinstance\u001b[39m(x, \u001b[38;5;28mslice\u001b[39m) \u001b[38;5;28;01mfor\u001b[39;00m x \u001b[38;5;129;01min\u001b[39;00m casted_key)\n\u001b[1;32m   3796\u001b[0m     ):\n\u001b[1;32m   3797\u001b[0m         \u001b[38;5;28;01mraise\u001b[39;00m InvalidIndexError(key)\n\u001b[0;32m-> 3798\u001b[0m     \u001b[38;5;28;01mraise\u001b[39;00m \u001b[38;5;167;01mKeyError\u001b[39;00m(key) \u001b[38;5;28;01mfrom\u001b[39;00m \u001b[38;5;21;01merr\u001b[39;00m\n\u001b[1;32m   3799\u001b[0m \u001b[38;5;28;01mexcept\u001b[39;00m \u001b[38;5;167;01mTypeError\u001b[39;00m:\n\u001b[1;32m   3800\u001b[0m     \u001b[38;5;66;03m# If we have a listlike key, _check_indexing_error will raise\u001b[39;00m\n\u001b[1;32m   3801\u001b[0m     \u001b[38;5;66;03m#  InvalidIndexError. Otherwise we fall through and re-raise\u001b[39;00m\n\u001b[1;32m   3802\u001b[0m     \u001b[38;5;66;03m#  the TypeError.\u001b[39;00m\n\u001b[1;32m   3803\u001b[0m     \u001b[38;5;28mself\u001b[39m\u001b[38;5;241m.\u001b[39m_check_indexing_error(key)\n",
      "\u001b[0;31mKeyError\u001b[0m: 'return'"
     ]
    }
   ],
   "source": [
    "import plotly.express as px\n",
    "import plotly.graph_objects as go\n",
    "from plotly.subplots import make_subplots\n",
    "\n",
    "# fig = px.line(df, x=df.index.get_level_values('datetime'), y='close', title='沪深300')\n",
    "# fig.show()\n",
    "\n",
    "fig = make_subplots(rows=2, cols=1, subplot_titles=(\"Close\", \"Return\"))\n",
    "fig.add_trace(\n",
    "    go.Scatter(x=df.index.get_level_values('datetime'), y=df['close'], mode='lines', name='close'),\n",
    "    row=1, col=1\n",
    ")\n",
    "fig.add_trace(\n",
    "    go.Bar(x=df.index.get_level_values('datetime'), y=df['return'], name='return'),\n",
    "    row=2, col=1\n",
    ")\n",
    "\n",
    "fig.update_layout()\n",
    "fig.show()"
   ]
  },
  {
   "cell_type": "code",
   "execution_count": null,
   "metadata": {},
   "outputs": [
    {
     "name": "stderr",
     "output_type": "stream",
     "text": [
      "[2693178:MainThread](2024-10-15 22:27:21,052) INFO - qlib.timer - [log.py:127] - Time cost: 11.625s | Loading data Done\n",
      "[2693178:MainThread](2024-10-15 22:27:21,055) INFO - qlib.timer - [log.py:127] - Time cost: 0.001s | DropnaLabel Done\n",
      "[2693178:MainThread](2024-10-15 22:27:21,058) INFO - qlib.timer - [log.py:127] - Time cost: 0.003s | CSZScoreNorm Done\n",
      "[2693178:MainThread](2024-10-15 22:27:21,059) INFO - qlib.timer - [log.py:127] - Time cost: 0.006s | fit & process data Done\n",
      "[2693178:MainThread](2024-10-15 22:27:21,059) INFO - qlib.timer - [log.py:127] - Time cost: 11.633s | Init data Done\n"
     ]
    },
    {
     "data": {
      "text/html": [
       "<div>\n",
       "<style scoped>\n",
       "    .dataframe tbody tr th:only-of-type {\n",
       "        vertical-align: middle;\n",
       "    }\n",
       "\n",
       "    .dataframe tbody tr th {\n",
       "        vertical-align: top;\n",
       "    }\n",
       "\n",
       "    .dataframe thead th {\n",
       "        text-align: right;\n",
       "    }\n",
       "</style>\n",
       "<table border=\"1\" class=\"dataframe\">\n",
       "  <thead>\n",
       "    <tr style=\"text-align: right;\">\n",
       "      <th></th>\n",
       "      <th></th>\n",
       "      <th>KMID</th>\n",
       "      <th>KLEN</th>\n",
       "      <th>KMID2</th>\n",
       "      <th>KUP</th>\n",
       "      <th>KUP2</th>\n",
       "      <th>KLOW</th>\n",
       "      <th>KLOW2</th>\n",
       "      <th>KSFT</th>\n",
       "      <th>KSFT2</th>\n",
       "      <th>OPEN0</th>\n",
       "      <th>...</th>\n",
       "      <th>VSUMN10</th>\n",
       "      <th>VSUMN20</th>\n",
       "      <th>VSUMN30</th>\n",
       "      <th>VSUMN60</th>\n",
       "      <th>VSUMD5</th>\n",
       "      <th>VSUMD10</th>\n",
       "      <th>VSUMD20</th>\n",
       "      <th>VSUMD30</th>\n",
       "      <th>VSUMD60</th>\n",
       "      <th>LABEL0</th>\n",
       "    </tr>\n",
       "    <tr>\n",
       "      <th>datetime</th>\n",
       "      <th>instrument</th>\n",
       "      <th></th>\n",
       "      <th></th>\n",
       "      <th></th>\n",
       "      <th></th>\n",
       "      <th></th>\n",
       "      <th></th>\n",
       "      <th></th>\n",
       "      <th></th>\n",
       "      <th></th>\n",
       "      <th></th>\n",
       "      <th></th>\n",
       "      <th></th>\n",
       "      <th></th>\n",
       "      <th></th>\n",
       "      <th></th>\n",
       "      <th></th>\n",
       "      <th></th>\n",
       "      <th></th>\n",
       "      <th></th>\n",
       "      <th></th>\n",
       "      <th></th>\n",
       "    </tr>\n",
       "  </thead>\n",
       "  <tbody>\n",
       "    <tr>\n",
       "      <th rowspan=\"11\" valign=\"top\">2024-10-14</th>\n",
       "      <th>SH600000</th>\n",
       "      <td>0.008729</td>\n",
       "      <td>0.028128</td>\n",
       "      <td>0.310344</td>\n",
       "      <td>0.013579</td>\n",
       "      <td>0.482758</td>\n",
       "      <td>0.005820</td>\n",
       "      <td>0.206897</td>\n",
       "      <td>0.000970</td>\n",
       "      <td>0.034484</td>\n",
       "      <td>0.991346</td>\n",
       "      <td>...</td>\n",
       "      <td>0.435056</td>\n",
       "      <td>0.451962</td>\n",
       "      <td>0.460663</td>\n",
       "      <td>0.473417</td>\n",
       "      <td>-0.601647</td>\n",
       "      <td>0.129888</td>\n",
       "      <td>0.096075</td>\n",
       "      <td>0.078674</td>\n",
       "      <td>0.053167</td>\n",
       "      <td>NaN</td>\n",
       "    </tr>\n",
       "    <tr>\n",
       "      <th>SH600009</th>\n",
       "      <td>-0.004820</td>\n",
       "      <td>0.025801</td>\n",
       "      <td>-0.186812</td>\n",
       "      <td>0.004820</td>\n",
       "      <td>0.186812</td>\n",
       "      <td>0.016161</td>\n",
       "      <td>0.626377</td>\n",
       "      <td>0.006521</td>\n",
       "      <td>0.252753</td>\n",
       "      <td>1.004843</td>\n",
       "      <td>...</td>\n",
       "      <td>0.445332</td>\n",
       "      <td>0.454117</td>\n",
       "      <td>0.469676</td>\n",
       "      <td>0.492810</td>\n",
       "      <td>-0.538038</td>\n",
       "      <td>0.109335</td>\n",
       "      <td>0.091766</td>\n",
       "      <td>0.060648</td>\n",
       "      <td>0.014381</td>\n",
       "      <td>NaN</td>\n",
       "    </tr>\n",
       "    <tr>\n",
       "      <th>SH600010</th>\n",
       "      <td>0.006024</td>\n",
       "      <td>0.018072</td>\n",
       "      <td>0.333336</td>\n",
       "      <td>0.006024</td>\n",
       "      <td>0.333332</td>\n",
       "      <td>0.006024</td>\n",
       "      <td>0.333332</td>\n",
       "      <td>0.006024</td>\n",
       "      <td>0.333336</td>\n",
       "      <td>0.994012</td>\n",
       "      <td>...</td>\n",
       "      <td>0.449366</td>\n",
       "      <td>0.461303</td>\n",
       "      <td>0.465725</td>\n",
       "      <td>0.479768</td>\n",
       "      <td>-0.632578</td>\n",
       "      <td>0.101268</td>\n",
       "      <td>0.077393</td>\n",
       "      <td>0.068550</td>\n",
       "      <td>0.040464</td>\n",
       "      <td>NaN</td>\n",
       "    </tr>\n",
       "    <tr>\n",
       "      <th>SH600011</th>\n",
       "      <td>-0.006840</td>\n",
       "      <td>0.027360</td>\n",
       "      <td>-0.249997</td>\n",
       "      <td>0.009576</td>\n",
       "      <td>0.350001</td>\n",
       "      <td>0.010944</td>\n",
       "      <td>0.400002</td>\n",
       "      <td>-0.005472</td>\n",
       "      <td>-0.199996</td>\n",
       "      <td>1.006887</td>\n",
       "      <td>...</td>\n",
       "      <td>0.429330</td>\n",
       "      <td>0.419811</td>\n",
       "      <td>0.428676</td>\n",
       "      <td>0.480447</td>\n",
       "      <td>-0.210649</td>\n",
       "      <td>0.141339</td>\n",
       "      <td>0.160377</td>\n",
       "      <td>0.142649</td>\n",
       "      <td>0.039106</td>\n",
       "      <td>NaN</td>\n",
       "    </tr>\n",
       "    <tr>\n",
       "      <th>SH600015</th>\n",
       "      <td>0.013587</td>\n",
       "      <td>0.027174</td>\n",
       "      <td>0.500002</td>\n",
       "      <td>0.012228</td>\n",
       "      <td>0.449999</td>\n",
       "      <td>0.001359</td>\n",
       "      <td>0.049999</td>\n",
       "      <td>0.002717</td>\n",
       "      <td>0.100001</td>\n",
       "      <td>0.986595</td>\n",
       "      <td>...</td>\n",
       "      <td>0.458759</td>\n",
       "      <td>0.464651</td>\n",
       "      <td>0.462549</td>\n",
       "      <td>0.473120</td>\n",
       "      <td>-0.675747</td>\n",
       "      <td>0.082481</td>\n",
       "      <td>0.070698</td>\n",
       "      <td>0.074902</td>\n",
       "      <td>0.053759</td>\n",
       "      <td>NaN</td>\n",
       "    </tr>\n",
       "    <tr>\n",
       "      <th>...</th>\n",
       "      <td>...</td>\n",
       "      <td>...</td>\n",
       "      <td>...</td>\n",
       "      <td>...</td>\n",
       "      <td>...</td>\n",
       "      <td>...</td>\n",
       "      <td>...</td>\n",
       "      <td>...</td>\n",
       "      <td>...</td>\n",
       "      <td>...</td>\n",
       "      <td>...</td>\n",
       "      <td>...</td>\n",
       "      <td>...</td>\n",
       "      <td>...</td>\n",
       "      <td>...</td>\n",
       "      <td>...</td>\n",
       "      <td>...</td>\n",
       "      <td>...</td>\n",
       "      <td>...</td>\n",
       "      <td>...</td>\n",
       "      <td>...</td>\n",
       "    </tr>\n",
       "    <tr>\n",
       "      <th>SZ002841</th>\n",
       "      <td>-0.026793</td>\n",
       "      <td>0.030208</td>\n",
       "      <td>-0.886958</td>\n",
       "      <td>-0.026005</td>\n",
       "      <td>-0.860868</td>\n",
       "      <td>0.029419</td>\n",
       "      <td>0.973910</td>\n",
       "      <td>0.028631</td>\n",
       "      <td>0.947820</td>\n",
       "      <td>1.027530</td>\n",
       "      <td>...</td>\n",
       "      <td>0.520219</td>\n",
       "      <td>0.490248</td>\n",
       "      <td>0.470259</td>\n",
       "      <td>0.487125</td>\n",
       "      <td>-0.357161</td>\n",
       "      <td>-0.040437</td>\n",
       "      <td>0.019504</td>\n",
       "      <td>0.059482</td>\n",
       "      <td>0.025751</td>\n",
       "      <td>NaN</td>\n",
       "    </tr>\n",
       "    <tr>\n",
       "      <th>SZ002916</th>\n",
       "      <td>-0.043947</td>\n",
       "      <td>0.038684</td>\n",
       "      <td>-1.136054</td>\n",
       "      <td>-0.040263</td>\n",
       "      <td>-1.040814</td>\n",
       "      <td>0.035000</td>\n",
       "      <td>0.904760</td>\n",
       "      <td>0.031316</td>\n",
       "      <td>0.809521</td>\n",
       "      <td>1.045968</td>\n",
       "      <td>...</td>\n",
       "      <td>0.459983</td>\n",
       "      <td>0.448937</td>\n",
       "      <td>0.465938</td>\n",
       "      <td>0.530593</td>\n",
       "      <td>-0.468525</td>\n",
       "      <td>0.080034</td>\n",
       "      <td>0.102126</td>\n",
       "      <td>0.068124</td>\n",
       "      <td>-0.061185</td>\n",
       "      <td>NaN</td>\n",
       "    </tr>\n",
       "    <tr>\n",
       "      <th>SZ002920</th>\n",
       "      <td>-0.060902</td>\n",
       "      <td>0.046515</td>\n",
       "      <td>-1.309278</td>\n",
       "      <td>-0.060902</td>\n",
       "      <td>-1.309278</td>\n",
       "      <td>0.046515</td>\n",
       "      <td>1.000000</td>\n",
       "      <td>0.046515</td>\n",
       "      <td>1.000000</td>\n",
       "      <td>1.064851</td>\n",
       "      <td>...</td>\n",
       "      <td>0.345098</td>\n",
       "      <td>0.460724</td>\n",
       "      <td>0.487508</td>\n",
       "      <td>0.537107</td>\n",
       "      <td>0.083736</td>\n",
       "      <td>0.309804</td>\n",
       "      <td>0.078552</td>\n",
       "      <td>0.024985</td>\n",
       "      <td>-0.074214</td>\n",
       "      <td>NaN</td>\n",
       "    </tr>\n",
       "    <tr>\n",
       "      <th>SZ002938</th>\n",
       "      <td>0.011818</td>\n",
       "      <td>0.047271</td>\n",
       "      <td>0.249998</td>\n",
       "      <td>0.001126</td>\n",
       "      <td>0.023810</td>\n",
       "      <td>0.034328</td>\n",
       "      <td>0.726192</td>\n",
       "      <td>0.045020</td>\n",
       "      <td>0.952380</td>\n",
       "      <td>0.988320</td>\n",
       "      <td>...</td>\n",
       "      <td>0.441898</td>\n",
       "      <td>0.447856</td>\n",
       "      <td>0.471965</td>\n",
       "      <td>0.524850</td>\n",
       "      <td>-0.206089</td>\n",
       "      <td>0.116205</td>\n",
       "      <td>0.104289</td>\n",
       "      <td>0.056070</td>\n",
       "      <td>-0.049700</td>\n",
       "      <td>NaN</td>\n",
       "    </tr>\n",
       "    <tr>\n",
       "      <th>SZ003816</th>\n",
       "      <td>-0.016018</td>\n",
       "      <td>0.036613</td>\n",
       "      <td>-0.437498</td>\n",
       "      <td>-0.002288</td>\n",
       "      <td>-0.062499</td>\n",
       "      <td>0.022883</td>\n",
       "      <td>0.625001</td>\n",
       "      <td>0.009153</td>\n",
       "      <td>0.250003</td>\n",
       "      <td>1.016279</td>\n",
       "      <td>...</td>\n",
       "      <td>0.479734</td>\n",
       "      <td>0.469965</td>\n",
       "      <td>0.487247</td>\n",
       "      <td>0.490129</td>\n",
       "      <td>-0.826856</td>\n",
       "      <td>0.040532</td>\n",
       "      <td>0.060071</td>\n",
       "      <td>0.025507</td>\n",
       "      <td>0.019742</td>\n",
       "      <td>NaN</td>\n",
       "    </tr>\n",
       "  </tbody>\n",
       "</table>\n",
       "<p>248 rows × 159 columns</p>\n",
       "</div>"
      ],
      "text/plain": [
       "                           KMID      KLEN     KMID2       KUP      KUP2  \\\n",
       "datetime   instrument                                                     \n",
       "2024-10-14 SH600000    0.008729  0.028128  0.310344  0.013579  0.482758   \n",
       "           SH600009   -0.004820  0.025801 -0.186812  0.004820  0.186812   \n",
       "           SH600010    0.006024  0.018072  0.333336  0.006024  0.333332   \n",
       "           SH600011   -0.006840  0.027360 -0.249997  0.009576  0.350001   \n",
       "           SH600015    0.013587  0.027174  0.500002  0.012228  0.449999   \n",
       "...                         ...       ...       ...       ...       ...   \n",
       "           SZ002841   -0.026793  0.030208 -0.886958 -0.026005 -0.860868   \n",
       "           SZ002916   -0.043947  0.038684 -1.136054 -0.040263 -1.040814   \n",
       "           SZ002920   -0.060902  0.046515 -1.309278 -0.060902 -1.309278   \n",
       "           SZ002938    0.011818  0.047271  0.249998  0.001126  0.023810   \n",
       "           SZ003816   -0.016018  0.036613 -0.437498 -0.002288 -0.062499   \n",
       "\n",
       "                           KLOW     KLOW2      KSFT     KSFT2     OPEN0  ...  \\\n",
       "datetime   instrument                                                    ...   \n",
       "2024-10-14 SH600000    0.005820  0.206897  0.000970  0.034484  0.991346  ...   \n",
       "           SH600009    0.016161  0.626377  0.006521  0.252753  1.004843  ...   \n",
       "           SH600010    0.006024  0.333332  0.006024  0.333336  0.994012  ...   \n",
       "           SH600011    0.010944  0.400002 -0.005472 -0.199996  1.006887  ...   \n",
       "           SH600015    0.001359  0.049999  0.002717  0.100001  0.986595  ...   \n",
       "...                         ...       ...       ...       ...       ...  ...   \n",
       "           SZ002841    0.029419  0.973910  0.028631  0.947820  1.027530  ...   \n",
       "           SZ002916    0.035000  0.904760  0.031316  0.809521  1.045968  ...   \n",
       "           SZ002920    0.046515  1.000000  0.046515  1.000000  1.064851  ...   \n",
       "           SZ002938    0.034328  0.726192  0.045020  0.952380  0.988320  ...   \n",
       "           SZ003816    0.022883  0.625001  0.009153  0.250003  1.016279  ...   \n",
       "\n",
       "                        VSUMN10   VSUMN20   VSUMN30   VSUMN60    VSUMD5  \\\n",
       "datetime   instrument                                                     \n",
       "2024-10-14 SH600000    0.435056  0.451962  0.460663  0.473417 -0.601647   \n",
       "           SH600009    0.445332  0.454117  0.469676  0.492810 -0.538038   \n",
       "           SH600010    0.449366  0.461303  0.465725  0.479768 -0.632578   \n",
       "           SH600011    0.429330  0.419811  0.428676  0.480447 -0.210649   \n",
       "           SH600015    0.458759  0.464651  0.462549  0.473120 -0.675747   \n",
       "...                         ...       ...       ...       ...       ...   \n",
       "           SZ002841    0.520219  0.490248  0.470259  0.487125 -0.357161   \n",
       "           SZ002916    0.459983  0.448937  0.465938  0.530593 -0.468525   \n",
       "           SZ002920    0.345098  0.460724  0.487508  0.537107  0.083736   \n",
       "           SZ002938    0.441898  0.447856  0.471965  0.524850 -0.206089   \n",
       "           SZ003816    0.479734  0.469965  0.487247  0.490129 -0.826856   \n",
       "\n",
       "                        VSUMD10   VSUMD20   VSUMD30   VSUMD60  LABEL0  \n",
       "datetime   instrument                                                  \n",
       "2024-10-14 SH600000    0.129888  0.096075  0.078674  0.053167     NaN  \n",
       "           SH600009    0.109335  0.091766  0.060648  0.014381     NaN  \n",
       "           SH600010    0.101268  0.077393  0.068550  0.040464     NaN  \n",
       "           SH600011    0.141339  0.160377  0.142649  0.039106     NaN  \n",
       "           SH600015    0.082481  0.070698  0.074902  0.053759     NaN  \n",
       "...                         ...       ...       ...       ...     ...  \n",
       "           SZ002841   -0.040437  0.019504  0.059482  0.025751     NaN  \n",
       "           SZ002916    0.080034  0.102126  0.068124 -0.061185     NaN  \n",
       "           SZ002920    0.309804  0.078552  0.024985 -0.074214     NaN  \n",
       "           SZ002938    0.116205  0.104289  0.056070 -0.049700     NaN  \n",
       "           SZ003816    0.040532  0.060071  0.025507  0.019742     NaN  \n",
       "\n",
       "[248 rows x 159 columns]"
      ]
     },
     "execution_count": 11,
     "metadata": {},
     "output_type": "execute_result"
    }
   ],
   "source": [
    "dataset = init_instance_by_config({'class': 'DatasetH',\n",
    " 'module_path': 'qlib.data.dataset',\n",
    " 'kwargs': {'handler': {'class': 'Alpha158',\n",
    "   'module_path': 'qlib.contrib.data.handler',\n",
    "   'kwargs': {'start_time': '2024-10-15',\n",
    "    'end_time': '2024-10-16',\n",
    "    'fit_start_time': '2024-10-15',\n",
    "    'fit_end_time': '2024-10-15',\n",
    "    'instruments': {'market': 'csi300',\n",
    "     'filter_pipe': [{'filter_type': 'NameDFilter',\n",
    "       'name_rule_re': '(SH60[0-9]{4})|(SZ00[0-9]{4})',\n",
    "       'filter_start_time': None,\n",
    "       'filter_end_time': None}]}}},\n",
    "  'segments': {'train': ('2024-10-14', '2024-10-16'),\n",
    "   'valid': ('2024-10-15', '2024-10-15'),\n",
    "   'test': ('2024-10-15', '2024-10-15')}}})\n",
    "dataset.prepare('train')"
   ]
  },
  {
   "cell_type": "code",
   "execution_count": null,
   "metadata": {},
   "outputs": [],
   "source": []
  }
 ],
 "metadata": {
  "kernelspec": {
   "display_name": "qlib39",
   "language": "python",
   "name": "python3"
  },
  "language_info": {
   "codemirror_mode": {
    "name": "ipython",
    "version": 3
   },
   "file_extension": ".py",
   "mimetype": "text/x-python",
   "name": "python",
   "nbconvert_exporter": "python",
   "pygments_lexer": "ipython3",
   "version": "3.9.20"
  }
 },
 "nbformat": 4,
 "nbformat_minor": 2
}
