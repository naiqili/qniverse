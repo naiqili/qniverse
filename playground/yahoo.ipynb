{
 "cells": [
  {
   "cell_type": "code",
   "execution_count": 1,
   "metadata": {},
   "outputs": [
    {
     "name": "stderr",
     "output_type": "stream",
     "text": [
      "100%|██████████| 1/1 [00:00<00:00,  3.59it/s]\n",
      "100%|██████████| 1/1 [00:00<00:00,  3.68it/s]\n"
     ]
    },
    {
     "data": {
      "text/plain": [
       "{'AAPL': {'maxAge': 1,\n",
       "  'priceHint': 2,\n",
       "  'previousClose': 225.77,\n",
       "  'open': 225.17,\n",
       "  'dayLow': 224.83,\n",
       "  'dayHigh': 229.75,\n",
       "  'regularMarketPreviousClose': 225.77,\n",
       "  'regularMarketOpen': 225.17,\n",
       "  'regularMarketDayLow': 224.83,\n",
       "  'regularMarketDayHigh': 229.75,\n",
       "  'dividendRate': 1.0,\n",
       "  'dividendYield': 0.0044,\n",
       "  'exDividendDate': '2024-08-12 08:00:00',\n",
       "  'payoutRatio': 0.1476,\n",
       "  'fiveYearAvgDividendYield': 0.64,\n",
       "  'beta': 1.239,\n",
       "  'trailingPE': 34.93759,\n",
       "  'forwardPE': 30.687164,\n",
       "  'volume': 32108383,\n",
       "  'regularMarketVolume': 32108383,\n",
       "  'averageVolume': 53032564,\n",
       "  'averageVolume10days': 39740260,\n",
       "  'averageDailyVolume10Day': 39740260,\n",
       "  'bid': 229.33,\n",
       "  'ask': 229.85,\n",
       "  'bidSize': 200,\n",
       "  'askSize': 200,\n",
       "  'marketCap': 3489949024256,\n",
       "  'fiftyTwoWeekLow': 164.08,\n",
       "  'fiftyTwoWeekHigh': 237.23,\n",
       "  'priceToSalesTrailing12Months': 9.050627,\n",
       "  'fiftyDayAverage': 223.1148,\n",
       "  'twoHundredDayAverage': 198.4049,\n",
       "  'trailingAnnualDividendRate': 0.97,\n",
       "  'trailingAnnualDividendYield': 0.004296408,\n",
       "  'currency': 'USD',\n",
       "  'fromCurrency': None,\n",
       "  'toCurrency': None,\n",
       "  'lastMarket': None,\n",
       "  'coinMarketCapLink': None,\n",
       "  'algorithm': None,\n",
       "  'tradeable': False}}"
      ]
     },
     "execution_count": 1,
     "metadata": {},
     "output_type": "execute_result"
    }
   ],
   "source": [
    "from yahooquery import Ticker\n",
    "\n",
    "proxies = {\n",
    "'http': 'http://127.0.0.1:8890',\n",
    "'https': 'http://127.0.0.1:8890',\n",
    "}\n",
    "ticker = Ticker('aapl', proxies=proxies, validate=True, status_forcelist=[404], backoff_factor=5, retry=10, progress=True)\n",
    "\n",
    "ticker.summary_detail"
   ]
  },
  {
   "cell_type": "code",
   "execution_count": null,
   "metadata": {},
   "outputs": [],
   "source": []
  }
 ],
 "metadata": {
  "kernelspec": {
   "display_name": "yahoo",
   "language": "python",
   "name": "python3"
  },
  "language_info": {
   "codemirror_mode": {
    "name": "ipython",
    "version": 3
   },
   "file_extension": ".py",
   "mimetype": "text/x-python",
   "name": "python",
   "nbconvert_exporter": "python",
   "pygments_lexer": "ipython3",
   "version": "3.12.7"
  }
 },
 "nbformat": 4,
 "nbformat_minor": 2
}
