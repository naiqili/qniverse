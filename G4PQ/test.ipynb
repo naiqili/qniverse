{
 "cells": [
  {
   "cell_type": "code",
   "execution_count": 1,
   "metadata": {},
   "outputs": [
    {
     "name": "stderr",
     "output_type": "stream",
     "text": [
      "/data2/linaiqi/anaconda3/envs/qlib/lib/python3.7/site-packages/tqdm/auto.py:21: TqdmWarning: IProgress not found. Please update jupyter and ipywidgets. See https://ipywidgets.readthedocs.io/en/stable/user_install.html\n",
      "  from .autonotebook import tqdm as notebook_tqdm\n",
      "[20558:MainThread](2024-10-04 09:46:48,049) INFO - qlib.Initialization - [config.py:416] - default_conf: client.\n",
      "[20558:MainThread](2024-10-04 09:46:48,054) INFO - qlib.Initialization - [__init__.py:74] - qlib successfully initialized based on client settings.\n",
      "[20558:MainThread](2024-10-04 09:46:48,055) INFO - qlib.Initialization - [__init__.py:76] - data_path={'__DEFAULT_FREQ': PosixPath('/data2/linaiqi/.qlib/qlib_data/cn_data')}\n"
     ]
    }
   ],
   "source": [
    "from pprint import pprint\n",
    "from pathlib import Path\n",
    "import pandas as pd\n",
    "import qlib\n",
    "import os\n",
    "from qlib.utils import init_instance_by_config\n",
    "from qlib.workflow import R\n",
    "from qlib.workflow.record_temp import SignalRecord, PortAnaRecord, SigAnaRecord\n",
    "from qlib.contrib.report import analysis_model, analysis_position\n",
    "from qlib.data import D\n",
    "from qlib.data.dataset import TSDataSampler\n",
    "\n",
    "qlib.init(provider_uri='~/.qlib/qlib_data/cn_data')"
   ]
  },
  {
   "cell_type": "code",
   "execution_count": 2,
   "metadata": {},
   "outputs": [],
   "source": [
    "MARKET='csi100'\n",
    "BENCHMARK = \"SH000300\"\n",
    "# EXP_NAME = 'csi100_TCN'"
   ]
  },
  {
   "cell_type": "code",
   "execution_count": 3,
   "metadata": {},
   "outputs": [
    {
     "data": {
      "text/plain": [
       "<AxesSubplot:xlabel='datetime'>"
      ]
     },
     "execution_count": 3,
     "metadata": {},
     "output_type": "execute_result"
    },
    {
     "data": {
      "image/png": "[encoded data removed]",
      "text/plain": [
       "<Figure size 640x480 with 1 Axes>"
      ]
     },
     "metadata": {},
     "output_type": "display_data"
    }
   ],
   "source": [
    "df = D.features(D.instruments(MARKET), [\"$close\"], start_time=\"2010-01-01\", end_time=\"2024-08-01\")\n",
    "df.groupby(\"datetime\").size().plot()"
   ]
  },
  {
   "cell_type": "code",
   "execution_count": 4,
   "metadata": {},
   "outputs": [
    {
     "name": "stderr",
     "output_type": "stream",
     "text": [
      "[20558:MainThread](2024-10-04 09:46:50,589) INFO - qlib.timer - [log.py:127] - Time cost: 1.088s | Loading data Done\n",
      "[20558:MainThread](2024-10-04 09:46:50,635) INFO - qlib.timer - [log.py:127] - Time cost: 0.042s | ZScoreNorm Done\n",
      "[20558:MainThread](2024-10-04 09:46:50,636) INFO - qlib.timer - [log.py:127] - Time cost: 0.045s | fit & process data Done\n",
      "[20558:MainThread](2024-10-04 09:46:50,638) INFO - qlib.timer - [log.py:127] - Time cost: 1.138s | Init data Done\n"
     ]
    }
   ],
   "source": [
    "handler_kwargs = {\n",
    "    \"start_time\": \"2010-01-01\",\n",
    "    \"end_time\": \"2024-08-01\",\n",
    "    # \"fit_start_time\": \"2010-01-01\",\n",
    "    # \"fit_end_time\": \"2020-12-31\",\n",
    "    \"instruments\": MARKET,\n",
    "    # 'infer_processors': [\n",
    "    #     {\n",
    "    #     'class': 'Fillna',\n",
    "    #     'kwargs': {\n",
    "    #         'fields_group': 'feature'\n",
    "    #         }\n",
    "    #     }\n",
    "    # ],\n",
    "    'learn_processors': [\n",
    "        {'class': 'ZScoreNorm',\n",
    "          'kwargs':\n",
    "              {'fit_start_time': '2010-01-01',\n",
    "               'fit_end_time': '2011-01-01'}\n",
    "        }\n",
    "    ],\n",
    "    'data_loader': {\n",
    "        \"class\": \"QlibDataLoader\",\n",
    "        \"module_path\": \"qlib.data.dataset.loader\",\n",
    "        \"kwargs\": {\n",
    "            'config': (\n",
    "                ['Ref($close, 4)', 'Ref($close, 3)', 'Ref($close, 2)', 'Ref($close, 1)', '$close', \n",
    "                 'Ref($close, -1) / $close - 1'],\n",
    "                ['c4', 'c3', 'c2', 'c1', 'c0', 'label']\n",
    "            )\n",
    "        },\n",
    "    }\n",
    "\n",
    "}\n",
    "handler_conf = {\n",
    "    \"class\": \"DataHandlerLP\",\n",
    "    \"module_path\": \"qlib.data.dataset.handler\",\n",
    "    \"kwargs\": handler_kwargs,\n",
    "}\n",
    "hd = init_instance_by_config(handler_conf)"
   ]
  },
  {
   "cell_type": "code",
   "execution_count": 5,
   "metadata": {},
   "outputs": [],
   "source": [
    "dataset_conf = {\n",
    "    \"class\": \"DatasetH\",\n",
    "    \"module_path\": \"qlib.data.dataset\",\n",
    "    \"kwargs\": {\n",
    "        \"handler\": hd,\n",
    "        \"segments\": {\n",
    "            \"train\": (\"2010-01-01\", \"2020-12-31\"),\n",
    "            \"valid\": (\"2021-01-01\", \"2022-12-31\"),\n",
    "            \"test\": (\"2023-01-01\", \"2024-08-01\"),\n",
    "        },\n",
    "        'step_len': 20\n",
    "    },\n",
    "}\n",
    "dataset = init_instance_by_config(dataset_conf)"
   ]
  },
  {
   "cell_type": "code",
   "execution_count": 6,
   "metadata": {},
   "outputs": [
    {
     "data": {
      "text/html": [
       "<div>\n",
       "<style scoped>\n",
       "    .dataframe tbody tr th:only-of-type {\n",
       "        vertical-align: middle;\n",
       "    }\n",
       "\n",
       "    .dataframe tbody tr th {\n",
       "        vertical-align: top;\n",
       "    }\n",
       "\n",
       "    .dataframe thead th {\n",
       "        text-align: right;\n",
       "    }\n",
       "</style>\n",
       "<table border=\"1\" class=\"dataframe\">\n",
       "  <thead>\n",
       "    <tr style=\"text-align: right;\">\n",
       "      <th></th>\n",
       "      <th></th>\n",
       "      <th>c4</th>\n",
       "      <th>c3</th>\n",
       "      <th>c2</th>\n",
       "      <th>c1</th>\n",
       "      <th>c0</th>\n",
       "      <th>label</th>\n",
       "    </tr>\n",
       "    <tr>\n",
       "      <th>datetime</th>\n",
       "      <th>instrument</th>\n",
       "      <th></th>\n",
       "      <th></th>\n",
       "      <th></th>\n",
       "      <th></th>\n",
       "      <th></th>\n",
       "      <th></th>\n",
       "    </tr>\n",
       "  </thead>\n",
       "  <tbody>\n",
       "    <tr>\n",
       "      <th rowspan=\"5\" valign=\"top\">2010-01-04</th>\n",
       "      <th>SH600000</th>\n",
       "      <td>7.482368</td>\n",
       "      <td>7.540009</td>\n",
       "      <td>7.792182</td>\n",
       "      <td>7.813798</td>\n",
       "      <td>7.633672</td>\n",
       "      <td>0.007551</td>\n",
       "    </tr>\n",
       "    <tr>\n",
       "      <th>SH600009</th>\n",
       "      <td>2.251587</td>\n",
       "      <td>2.274209</td>\n",
       "      <td>2.252918</td>\n",
       "      <td>2.318123</td>\n",
       "      <td>2.381998</td>\n",
       "      <td>0.006704</td>\n",
       "    </tr>\n",
       "    <tr>\n",
       "      <th>SH600010</th>\n",
       "      <td>2.917147</td>\n",
       "      <td>2.917147</td>\n",
       "      <td>2.948855</td>\n",
       "      <td>2.942512</td>\n",
       "      <td>2.904464</td>\n",
       "      <td>-0.004367</td>\n",
       "    </tr>\n",
       "    <tr>\n",
       "      <th>SH600011</th>\n",
       "      <td>1.714031</td>\n",
       "      <td>1.718420</td>\n",
       "      <td>1.757924</td>\n",
       "      <td>1.757924</td>\n",
       "      <td>1.757924</td>\n",
       "      <td>0.009988</td>\n",
       "    </tr>\n",
       "    <tr>\n",
       "      <th>SH600015</th>\n",
       "      <td>4.158424</td>\n",
       "      <td>4.199360</td>\n",
       "      <td>4.247120</td>\n",
       "      <td>4.236885</td>\n",
       "      <td>4.189126</td>\n",
       "      <td>0.025244</td>\n",
       "    </tr>\n",
       "    <tr>\n",
       "      <th>...</th>\n",
       "      <th>...</th>\n",
       "      <td>...</td>\n",
       "      <td>...</td>\n",
       "      <td>...</td>\n",
       "      <td>...</td>\n",
       "      <td>...</td>\n",
       "      <td>...</td>\n",
       "    </tr>\n",
       "    <tr>\n",
       "      <th rowspan=\"5\" valign=\"top\">2020-12-31</th>\n",
       "      <th>SZ300015</th>\n",
       "      <td>67.453461</td>\n",
       "      <td>66.740005</td>\n",
       "      <td>66.211868</td>\n",
       "      <td>68.426346</td>\n",
       "      <td>69.389961</td>\n",
       "      <td>-0.089064</td>\n",
       "    </tr>\n",
       "    <tr>\n",
       "      <th>SZ300122</th>\n",
       "      <td>19.643476</td>\n",
       "      <td>18.829767</td>\n",
       "      <td>18.396212</td>\n",
       "      <td>18.818323</td>\n",
       "      <td>18.805609</td>\n",
       "      <td>-0.031708</td>\n",
       "    </tr>\n",
       "    <tr>\n",
       "      <th>SZ300308</th>\n",
       "      <td>10.494177</td>\n",
       "      <td>10.050462</td>\n",
       "      <td>10.808386</td>\n",
       "      <td>10.685250</td>\n",
       "      <td>10.797771</td>\n",
       "      <td>0.022414</td>\n",
       "    </tr>\n",
       "    <tr>\n",
       "      <th>SZ300498</th>\n",
       "      <td>0.665944</td>\n",
       "      <td>0.666308</td>\n",
       "      <td>0.659042</td>\n",
       "      <td>0.658315</td>\n",
       "      <td>0.662311</td>\n",
       "      <td>0.064180</td>\n",
       "    </tr>\n",
       "    <tr>\n",
       "      <th>SZ300896</th>\n",
       "      <td>1.791235</td>\n",
       "      <td>1.832353</td>\n",
       "      <td>1.800000</td>\n",
       "      <td>1.866912</td>\n",
       "      <td>1.926529</td>\n",
       "      <td>0.078227</td>\n",
       "    </tr>\n",
       "  </tbody>\n",
       "</table>\n",
       "<p>277188 rows × 6 columns</p>\n",
       "</div>"
      ],
      "text/plain": [
       "                              c4         c3         c2         c1         c0  \\\n",
       "datetime   instrument                                                          \n",
       "2010-01-04 SH600000     7.482368   7.540009   7.792182   7.813798   7.633672   \n",
       "           SH600009     2.251587   2.274209   2.252918   2.318123   2.381998   \n",
       "           SH600010     2.917147   2.917147   2.948855   2.942512   2.904464   \n",
       "           SH600011     1.714031   1.718420   1.757924   1.757924   1.757924   \n",
       "           SH600015     4.158424   4.199360   4.247120   4.236885   4.189126   \n",
       "...                          ...        ...        ...        ...        ...   \n",
       "2020-12-31 SZ300015    67.453461  66.740005  66.211868  68.426346  69.389961   \n",
       "           SZ300122    19.643476  18.829767  18.396212  18.818323  18.805609   \n",
       "           SZ300308    10.494177  10.050462  10.808386  10.685250  10.797771   \n",
       "           SZ300498     0.665944   0.666308   0.659042   0.658315   0.662311   \n",
       "           SZ300896     1.791235   1.832353   1.800000   1.866912   1.926529   \n",
       "\n",
       "                          label  \n",
       "datetime   instrument            \n",
       "2010-01-04 SH600000    0.007551  \n",
       "           SH600009    0.006704  \n",
       "           SH600010   -0.004367  \n",
       "           SH600011    0.009988  \n",
       "           SH600015    0.025244  \n",
       "...                         ...  \n",
       "2020-12-31 SZ300015   -0.089064  \n",
       "           SZ300122   -0.031708  \n",
       "           SZ300308    0.022414  \n",
       "           SZ300498    0.064180  \n",
       "           SZ300896    0.078227  \n",
       "\n",
       "[277188 rows x 6 columns]"
      ]
     },
     "execution_count": 6,
     "metadata": {},
     "output_type": "execute_result"
    }
   ],
   "source": [
    "dataset.prepare(\"train\")"
   ]
  },
  {
   "cell_type": "code",
   "execution_count": 7,
   "metadata": {},
   "outputs": [
    {
     "data": {
      "text/html": [
       "<div>\n",
       "<style scoped>\n",
       "    .dataframe tbody tr th:only-of-type {\n",
       "        vertical-align: middle;\n",
       "    }\n",
       "\n",
       "    .dataframe tbody tr th {\n",
       "        vertical-align: top;\n",
       "    }\n",
       "\n",
       "    .dataframe thead th {\n",
       "        text-align: right;\n",
       "    }\n",
       "</style>\n",
       "<table border=\"1\" class=\"dataframe\">\n",
       "  <thead>\n",
       "    <tr style=\"text-align: right;\">\n",
       "      <th></th>\n",
       "      <th></th>\n",
       "      <th>c4</th>\n",
       "      <th>c3</th>\n",
       "      <th>c2</th>\n",
       "      <th>c1</th>\n",
       "      <th>c0</th>\n",
       "      <th>label</th>\n",
       "    </tr>\n",
       "    <tr>\n",
       "      <th>datetime</th>\n",
       "      <th>instrument</th>\n",
       "      <th></th>\n",
       "      <th></th>\n",
       "      <th></th>\n",
       "      <th></th>\n",
       "      <th></th>\n",
       "      <th></th>\n",
       "    </tr>\n",
       "  </thead>\n",
       "  <tbody>\n",
       "    <tr>\n",
       "      <th rowspan=\"5\" valign=\"top\">2010-01-04</th>\n",
       "      <th>SH600000</th>\n",
       "      <td>0.112706</td>\n",
       "      <td>0.116932</td>\n",
       "      <td>0.135550</td>\n",
       "      <td>0.137074</td>\n",
       "      <td>0.123600</td>\n",
       "      <td>0.323841</td>\n",
       "    </tr>\n",
       "    <tr>\n",
       "      <th>SH600009</th>\n",
       "      <td>-0.275196</td>\n",
       "      <td>-0.273250</td>\n",
       "      <td>-0.274552</td>\n",
       "      <td>-0.269464</td>\n",
       "      <td>-0.264472</td>\n",
       "      <td>0.288467</td>\n",
       "    </tr>\n",
       "    <tr>\n",
       "      <th>SH600010</th>\n",
       "      <td>-0.225840</td>\n",
       "      <td>-0.225610</td>\n",
       "      <td>-0.223028</td>\n",
       "      <td>-0.223275</td>\n",
       "      <td>-0.225865</td>\n",
       "      <td>-0.174247</td>\n",
       "    </tr>\n",
       "    <tr>\n",
       "      <th>SH600011</th>\n",
       "      <td>-0.315060</td>\n",
       "      <td>-0.314433</td>\n",
       "      <td>-0.311199</td>\n",
       "      <td>-0.310904</td>\n",
       "      <td>-0.310588</td>\n",
       "      <td>0.425693</td>\n",
       "    </tr>\n",
       "    <tr>\n",
       "      <th>SH600015</th>\n",
       "      <td>-0.133790</td>\n",
       "      <td>-0.130601</td>\n",
       "      <td>-0.126910</td>\n",
       "      <td>-0.127525</td>\n",
       "      <td>-0.130935</td>\n",
       "      <td>1.063337</td>\n",
       "    </tr>\n",
       "    <tr>\n",
       "      <th>...</th>\n",
       "      <th>...</th>\n",
       "      <td>...</td>\n",
       "      <td>...</td>\n",
       "      <td>...</td>\n",
       "      <td>...</td>\n",
       "      <td>...</td>\n",
       "      <td>...</td>\n",
       "    </tr>\n",
       "    <tr>\n",
       "      <th rowspan=\"5\" valign=\"top\">2024-08-01</th>\n",
       "      <th>SZ300308</th>\n",
       "      <td>1.538518</td>\n",
       "      <td>1.622373</td>\n",
       "      <td>1.590344</td>\n",
       "      <td>1.618329</td>\n",
       "      <td>1.622934</td>\n",
       "      <td>-3.505141</td>\n",
       "    </tr>\n",
       "    <tr>\n",
       "      <th>SZ300750</th>\n",
       "      <td>0.260974</td>\n",
       "      <td>0.242924</td>\n",
       "      <td>0.244101</td>\n",
       "      <td>0.249198</td>\n",
       "      <td>0.226675</td>\n",
       "      <td>-0.735822</td>\n",
       "    </tr>\n",
       "    <tr>\n",
       "      <th>SZ300760</th>\n",
       "      <td>-0.154411</td>\n",
       "      <td>-0.165775</td>\n",
       "      <td>-0.175304</td>\n",
       "      <td>-0.165512</td>\n",
       "      <td>-0.167364</td>\n",
       "      <td>0.846679</td>\n",
       "    </tr>\n",
       "    <tr>\n",
       "      <th>SZ300782</th>\n",
       "      <td>0.131890</td>\n",
       "      <td>0.116697</td>\n",
       "      <td>0.121480</td>\n",
       "      <td>0.150713</td>\n",
       "      <td>0.145708</td>\n",
       "      <td>-1.357196</td>\n",
       "    </tr>\n",
       "    <tr>\n",
       "      <th>SZ300896</th>\n",
       "      <td>-0.350329</td>\n",
       "      <td>-0.352215</td>\n",
       "      <td>-0.352145</td>\n",
       "      <td>-0.344035</td>\n",
       "      <td>-0.345128</td>\n",
       "      <td>-0.313075</td>\n",
       "    </tr>\n",
       "  </tbody>\n",
       "</table>\n",
       "<p>367104 rows × 6 columns</p>\n",
       "</div>"
      ],
      "text/plain": [
       "                             c4        c3        c2        c1        c0  \\\n",
       "datetime   instrument                                                     \n",
       "2010-01-04 SH600000    0.112706  0.116932  0.135550  0.137074  0.123600   \n",
       "           SH600009   -0.275196 -0.273250 -0.274552 -0.269464 -0.264472   \n",
       "           SH600010   -0.225840 -0.225610 -0.223028 -0.223275 -0.225865   \n",
       "           SH600011   -0.315060 -0.314433 -0.311199 -0.310904 -0.310588   \n",
       "           SH600015   -0.133790 -0.130601 -0.126910 -0.127525 -0.130935   \n",
       "...                         ...       ...       ...       ...       ...   \n",
       "2024-08-01 SZ300308    1.538518  1.622373  1.590344  1.618329  1.622934   \n",
       "           SZ300750    0.260974  0.242924  0.244101  0.249198  0.226675   \n",
       "           SZ300760   -0.154411 -0.165775 -0.175304 -0.165512 -0.167364   \n",
       "           SZ300782    0.131890  0.116697  0.121480  0.150713  0.145708   \n",
       "           SZ300896   -0.350329 -0.352215 -0.352145 -0.344035 -0.345128   \n",
       "\n",
       "                          label  \n",
       "datetime   instrument            \n",
       "2010-01-04 SH600000    0.323841  \n",
       "           SH600009    0.288467  \n",
       "           SH600010   -0.174247  \n",
       "           SH600011    0.425693  \n",
       "           SH600015    1.063337  \n",
       "...                         ...  \n",
       "2024-08-01 SZ300308   -3.505141  \n",
       "           SZ300750   -0.735822  \n",
       "           SZ300760    0.846679  \n",
       "           SZ300782   -1.357196  \n",
       "           SZ300896   -0.313075  \n",
       "\n",
       "[367104 rows x 6 columns]"
      ]
     },
     "execution_count": 7,
     "metadata": {},
     "output_type": "execute_result"
    }
   ],
   "source": [
    "hd.fetch(data_key=hd.DK_L)"
   ]
  },
  {
   "cell_type": "code",
   "execution_count": 8,
   "metadata": {},
   "outputs": [],
   "source": [
    "df=hd.fetch(data_key=hd.DK_I)"
   ]
  },
  {
   "cell_type": "code",
   "execution_count": 10,
   "metadata": {},
   "outputs": [],
   "source": [
    "X = df.iloc[:,:-1]"
   ]
  },
  {
   "cell_type": "code",
   "execution_count": 17,
   "metadata": {},
   "outputs": [
    {
     "data": {
      "text/plain": [
       "<AxesSubplot:ylabel='Frequency'>"
      ]
     },
     "execution_count": 17,
     "metadata": {},
     "output_type": "execute_result"
    },
    {
     "data": {
      "image/png": "[encoded data removed]",
      "text/plain": [
       "<Figure size 640x480 with 1 Axes>"
      ]
     },
     "metadata": {},
     "output_type": "display_data"
    }
   ],
   "source": [
    "Z.plot(kind='hist')"
   ]
  },
  {
   "cell_type": "code",
   "execution_count": 11,
   "metadata": {},
   "outputs": [
    {
     "data": {
      "text/plain": [
       "c4    16.182447\n",
       "c3    16.181385\n",
       "c2    16.180172\n",
       "c1    16.179062\n",
       "c0    16.177811\n",
       "dtype: float32"
      ]
     },
     "execution_count": 11,
     "metadata": {},
     "output_type": "execute_result"
    }
   ],
   "source": [
    "X.mean()"
   ]
  },
  {
   "cell_type": "code",
   "execution_count": 12,
   "metadata": {},
   "outputs": [
    {
     "data": {
      "text/plain": [
       "c4    53.635124\n",
       "c3    53.628468\n",
       "c2    53.620926\n",
       "c1    53.613201\n",
       "c0    53.605209\n",
       "dtype: float32"
      ]
     },
     "execution_count": 12,
     "metadata": {},
     "output_type": "execute_result"
    }
   ],
   "source": [
    "X.std()"
   ]
  },
  {
   "cell_type": "code",
   "execution_count": 16,
   "metadata": {},
   "outputs": [],
   "source": [
    "Z=(X-X.mean())/X.std()"
   ]
  },
  {
   "cell_type": "code",
   "execution_count": null,
   "metadata": {},
   "outputs": [],
   "source": []
  }
 ],
 "metadata": {
  "kernelspec": {
   "display_name": "qlib",
   "language": "python",
   "name": "python3"
  },
  "language_info": {
   "codemirror_mode": {
    "name": "ipython",
    "version": 3
   },
   "file_extension": ".py",
   "mimetype": "text/x-python",
   "name": "python",
   "nbconvert_exporter": "python",
   "pygments_lexer": "ipython3",
   "version": "3.7.12"
  }
 },
 "nbformat": 4,
 "nbformat_minor": 2
}
